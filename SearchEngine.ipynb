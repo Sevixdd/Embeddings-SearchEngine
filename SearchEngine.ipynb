{
 "cells": [
  {
   "cell_type": "code",
   "execution_count": 2,
   "id": "2ee008f2",
   "metadata": {},
   "outputs": [
    {
     "name": "stderr",
     "output_type": "stream",
     "text": [
      "f:\\SearchEngine\\venv\\Lib\\site-packages\\tqdm\\auto.py:21: TqdmWarning: IProgress not found. Please update jupyter and ipywidgets. See https://ipywidgets.readthedocs.io/en/stable/user_install.html\n",
      "  from .autonotebook import tqdm as notebook_tqdm\n"
     ]
    }
   ],
   "source": [
    "from datasets import load_dataset, get_dataset_config_names\n",
    "from sentence_transformers import SentenceTransformer, InputExample\n",
    "from sentence_transformers.util import cos_sim\n",
    "import torch, numpy as np, faiss, matplotlib.pyplot as plt\n",
    "from torch.utils.data import DataLoader\n",
    "from tqdm import tqdm\n"
   ]
  },
  {
   "cell_type": "markdown",
   "id": "0887f0cb",
   "metadata": {},
   "source": [
    "# PART 1: Embeddings-based search engine\n",
    "\n",
    "Implement a search engine that:<br>\n",
    "\n",
    "- Accepts a collection of documents on start\n",
    "\n",
    "- Provides an API to search over this collection by text query\n",
    "\n",
    "Notes:<br>\n",
    "\n",
    "- Use any pretrained embeddings model from Hugging Face to calculate vector representations.\n",
    "\n",
    "- For vector storage and retrieval, you may use any available library, e.g. usearch, Weaviate, or Qdrant.\n",
    "\n",
    "- Demonstrate the work of the search engine on test samples from any source."
   ]
  },
  {
   "cell_type": "markdown",
   "id": "0306f071",
   "metadata": {},
   "source": [
    "# Qdrant Integration \n",
    "\n",
    "This section sets up the Qdrant vector database and search engine for the code search evaluation.\n"
   ]
  },
  {
   "cell_type": "code",
   "execution_count": 3,
   "id": "4c30ae6d",
   "metadata": {},
   "outputs": [
    {
     "name": "stdout",
     "output_type": "stream",
     "text": [
      "✅ Qdrant and search engine imports loaded successfully!\n"
     ]
    }
   ],
   "source": [
    "# Import Qdrant and search engine components\n",
    "import os\n",
    "from dotenv import load_dotenv\n",
    "from qdrant_client import QdrantClient\n",
    "from qdrant_client.http import models\n",
    "from qdrant_client.http.models import Distance, VectorParams, PointStruct\n",
    "import uuid\n",
    "\n",
    "# Load environment variables\n",
    "load_dotenv()\n",
    "\n",
    "# Import our search engine components\n",
    "from engine import EmbeddingSearchEngine\n",
    "from vectordb import VectorDatabase\n",
    "\n",
    "print(\"✅ Qdrant and search engine imports loaded successfully!\")\n"
   ]
  },
  {
   "cell_type": "code",
   "execution_count": 4,
   "id": "711bf25d",
   "metadata": {},
   "outputs": [
    {
     "name": "stdout",
     "output_type": "stream",
     "text": [
      "🔧 Configuration:\n",
      "   Qdrant Mode: cloud\n",
      "   Collection: cosqa_search_engine\n",
      "   Model: sentence-transformers/all-MiniLM-L6-v2\n",
      "☁️ Initializing cloud Qdrant connection...\n",
      "💡 Make sure QDRANT_URL and QDRANT_API_KEY are set\n",
      "✅ Connected to Qdrant (cloud) at https://ef831e2f-378b-4433-8b16-199dadd9e843.eu-west-2-0.aws.cloud.qdrant.io:6333\n",
      "✅ Connected to Qdrant (cloud) with collection 'cosqa_search_engine'\n",
      "📚 Available collections: ['streamlit_search_engine', 'search_engine', 'cosqa_search_engine', 'demo_search_engine', 'New docs', 'New docs2', 'cosqa_search_engine_finetuned_notebook', 'complete_search_engine', 'cosqa_search_engine_ft']\n"
     ]
    }
   ],
   "source": [
    "# Configuration for Qdrant and Search Engine\n",
    "QDRANT_MODE = \"cloud\"  # Change to \"local\" for local Qdrant\n",
    "COLLECTION_NAME = \"cosqa_search_engine\"\n",
    "MODEL_NAME = \"sentence-transformers/all-MiniLM-L6-v2\"\n",
    "\n",
    "print(f\"🔧 Configuration:\")\n",
    "print(f\"   Qdrant Mode: {QDRANT_MODE}\")\n",
    "print(f\"   Collection: {COLLECTION_NAME}\")\n",
    "print(f\"   Model: {MODEL_NAME}\")\n",
    "\n",
    "# Initialize Qdrant connection\n",
    "try:\n",
    "    if QDRANT_MODE == \"local\":\n",
    "        print(\"🏠 Initializing local Qdrant connection...\")\n",
    "        print(\"💡 Make sure Qdrant is running: docker run -p 6333:6333 qdrant/qdrant\")\n",
    "        vector_db = VectorDatabase(\n",
    "            collection_name=COLLECTION_NAME,\n",
    "            use_local=True\n",
    "        )\n",
    "    else:\n",
    "        print(\"☁️ Initializing cloud Qdrant connection...\")\n",
    "        print(\"💡 Make sure QDRANT_URL and QDRANT_API_KEY are set\")\n",
    "        vector_db = VectorDatabase(\n",
    "            collection_name=COLLECTION_NAME,\n",
    "            use_local=False\n",
    "        )\n",
    "    \n",
    "    print(f\"✅ Connected to Qdrant ({QDRANT_MODE}) with collection '{COLLECTION_NAME}'\")\n",
    "    \n",
    "    # Check existing collections\n",
    "    collections = vector_db.list_collections()\n",
    "    print(f\"📚 Available collections: {collections}\")\n",
    "    \n",
    "except Exception as e:\n",
    "    print(f\"❌ Failed to connect to Qdrant: {e}\")\n",
    "    if QDRANT_MODE == \"local\":\n",
    "        print(\"💡 For local mode, run: docker run -p 6333:6333 qdrant/qdrant\")\n",
    "    else:\n",
    "        print(\"💡 For cloud mode, set QDRANT_URL and QDRANT_API_KEY environment variables\")\n",
    "    raise\n"
   ]
  },
  {
   "cell_type": "markdown",
   "id": "0b23ec54",
   "metadata": {},
   "source": [
    "# Initialize Search Engine"
   ]
  },
  {
   "cell_type": "code",
   "execution_count": 5,
   "id": "5cb3f5ec",
   "metadata": {},
   "outputs": [
    {
     "name": "stdout",
     "output_type": "stream",
     "text": [
      "🤖 Initializing search engine...\n",
      "✅ Search engine initialized with model 'sentence-transformers/all-MiniLM-L6-v2'\n",
      "📊 Engine stats: {'documents_count': 0, 'model_name': 'sentence-transformers/all-MiniLM-L6-v2', 'collection_stats': {'points_count': 61817, 'vector_size': 384, 'distance_metric': <Distance.COSINE: 'Cosine'>}}\n",
      "🚀 Search engine ready for code search evaluation!\n"
     ]
    }
   ],
   "source": [
    "print(\"🤖 Initializing search engine...\")\n",
    "\n",
    "try:\n",
    "    # Create search engine with Qdrant backend\n",
    "    search_engine = EmbeddingSearchEngine(\n",
    "        model_name=MODEL_NAME,\n",
    "        vector_db=vector_db\n",
    "    )\n",
    "    \n",
    "    print(f\"✅ Search engine initialized with model '{MODEL_NAME}'\")\n",
    "    \n",
    "    # Get engine statistics\n",
    "    stats = search_engine.get_stats()\n",
    "    print(f\"📊 Engine stats: {stats}\")\n",
    "    \n",
    "except Exception as e:\n",
    "    print(f\"❌ Failed to initialize search engine: {e}\")\n",
    "    raise\n",
    "\n",
    "print(\"🚀 Search engine ready for code search evaluation!\")\n"
   ]
  },
  {
   "cell_type": "markdown",
   "id": "48f8f172",
   "metadata": {},
   "source": [
    "## Test Qdrant Search Engine with Sample Data\n",
    "\n",
    "Before loading the full CoSQA dataset, let's test our Qdrant search engine with sample data to ensure everything is working correctly.\n"
   ]
  },
  {
   "cell_type": "code",
   "execution_count": 6,
   "id": "d04f7edf",
   "metadata": {},
   "outputs": [
    {
     "name": "stdout",
     "output_type": "stream",
     "text": [
      "🧪 Testing Qdrant Search Engine with Sample Data\n",
      "============================================================\n",
      "📝 Created 5 sample code documents\n",
      "📋 Sample documents:\n",
      "   1. def binary_search\n",
      "   2. def fibonacci\n",
      "   3. def is_prime\n",
      "   4. def bubble_sort\n",
      "   5. def quick_sort\n",
      "\n",
      "🔨 Building search index with sample data...\n",
      "Error clearing collection: Unexpected Response: 400 (Bad Request)\n",
      "Raw response content:\n",
      "b'{\"status\":{\"error\":\"Bad request: Index required but not found for \\\\\"exists\\\\\" of one of the following types: [bool]. Help: Create an index for this key or use a different filter.\"},\"time\":0.00001842}'\n",
      "Upserted 5 vectors to collection 'cosqa_search_engine'\n",
      "📊 Engine stats: {'documents_count': 5, 'model_name': 'sentence-transformers/all-MiniLM-L6-v2', 'collection_stats': {'points_count': 61822, 'vector_size': 384, 'distance_metric': <Distance.COSINE: 'Cosine'>}}\n",
      "\n",
      "🔍 Testing search with 5 sample queries:\n",
      "------------------------------------------------------------\n",
      "\n",
      "1. Query: 'binary search algorithm'\n",
      "----------------------------------------\n",
      "   Found 3 results:\n",
      "   1. Score: 0.7123\n",
      "      Path: sample_doc_1.py\n",
      "      Code: def binary_search(arr, target):\n",
      "    left, right = 0, len(arr) - 1\n",
      "    while left <= right:\n",
      "        m...\n",
      "      ...\n",
      "   2. Score: 0.7123\n",
      "      Path: sample_doc_1.py\n",
      "      Code: def binary_search(arr, target):\n",
      "    left, right = 0, len(arr) - 1\n",
      "    while left <= right:\n",
      "        m...\n",
      "      ...\n",
      "   3. Score: 0.6377\n",
      "      Path: doc_8771.py\n",
      "      Code: def binSearch(arr, val):\n",
      "  \"\"\" \n",
      "  Function for running binary search on a sorted list.\n",
      "\n",
      "  :param arr...\n",
      "      ...\n",
      "\n",
      "2. Query: 'fibonacci sequence calculation'\n",
      "----------------------------------------\n",
      "   Found 3 results:\n",
      "   1. Score: 0.7265\n",
      "      Path: sample_doc_2.py\n",
      "      Code: def fibonacci(n):\n",
      "    if n <= 1:\n",
      "        return n\n",
      "    return fibonacci(n-1) + fibonacci(n-2)...\n",
      "   2. Score: 0.7265\n",
      "      Path: sample_doc_2.py\n",
      "      Code: def fibonacci(n):\n",
      "    if n <= 1:\n",
      "        return n\n",
      "    return fibonacci(n-1) + fibonacci(n-2)...\n",
      "   3. Score: 0.7084\n",
      "      Path: doc_8811.py\n",
      "      Code: def software_fibonacci(n):\n",
      "    \"\"\" a normal old python function to return the Nth fibonacci number. ...\n",
      "      ...\n",
      "\n",
      "3. Query: 'prime number checker'\n",
      "----------------------------------------\n",
      "   Found 3 results:\n",
      "   1. Score: 0.6359\n",
      "      Path: doc_19156.py\n",
      "      Code: def is_prime(n):\n",
      "    \"\"\"\n",
      "    Check if n is a prime number\n",
      "    \"\"\"\n",
      "    if n % 2 == 0 and n > 2:\n",
      "     ...\n",
      "      ...\n",
      "   2. Score: 0.5949\n",
      "      Path: sample_doc_3.py\n",
      "      Code: def is_prime(num):\n",
      "    if num < 2:\n",
      "        return False\n",
      "    for i in range(2, int(num**0.5) + 1):\n",
      "  ...\n",
      "      ...\n",
      "   3. Score: 0.5949\n",
      "      Path: sample_doc_3.py\n",
      "      Code: def is_prime(num):\n",
      "    if num < 2:\n",
      "        return False\n",
      "    for i in range(2, int(num**0.5) + 1):\n",
      "  ...\n",
      "      ...\n",
      "\n",
      "4. Query: 'sorting algorithms'\n",
      "----------------------------------------\n",
      "   Found 3 results:\n",
      "   1. Score: 0.5814\n",
      "      Path: doc_11785.py\n",
      "      Code: def csort(objs, key):\n",
      "    \"\"\"Order-preserving sorting function.\"\"\"\n",
      "    idxs = dict((obj, i) for (i, ...\n",
      "      ...\n",
      "   2. Score: 0.5814\n",
      "      Path: doc_15854.py\n",
      "      Code: def csort(objs, key):\n",
      "    \"\"\"Order-preserving sorting function.\"\"\"\n",
      "    idxs = dict((obj, i) for (i, ...\n",
      "      ...\n",
      "   3. Score: 0.5814\n",
      "      Path: doc_16072.py\n",
      "      Code: def csort(objs, key):\n",
      "    \"\"\"Order-preserving sorting function.\"\"\"\n",
      "    idxs = dict((obj, i) for (i, ...\n",
      "      ...\n",
      "\n",
      "5. Query: 'recursive function'\n",
      "----------------------------------------\n",
      "   Found 3 results:\n",
      "   1. Score: 0.4710\n",
      "      Path: sample_doc_2.py\n",
      "      Code: def fibonacci(n):\n",
      "    if n <= 1:\n",
      "        return n\n",
      "    return fibonacci(n-1) + fibonacci(n-2)...\n",
      "   2. Score: 0.4710\n",
      "      Path: sample_doc_2.py\n",
      "      Code: def fibonacci(n):\n",
      "    if n <= 1:\n",
      "        return n\n",
      "    return fibonacci(n-1) + fibonacci(n-2)...\n",
      "   3. Score: 0.4643\n",
      "      Path: doc_8811.py\n",
      "      Code: def software_fibonacci(n):\n",
      "    \"\"\" a normal old python function to return the Nth fibonacci number. ...\n",
      "      ...\n",
      "\n",
      "✅ Sample data testing completed!\n",
      "🎯 Qdrant search engine is working correctly with sample data!\n"
     ]
    }
   ],
   "source": [
    "# Test Qdrant Search Engine with Sample Data\n",
    "print(\"🧪 Testing Qdrant Search Engine with Sample Data\")\n",
    "print(\"=\" * 60)\n",
    "\n",
    "# Create sample code documents\n",
    "sample_documents = [\n",
    "    \"def binary_search(arr, target):\\n    left, right = 0, len(arr) - 1\\n    while left <= right:\\n        mid = (left + right) // 2\\n        if arr[mid] == target:\\n            return mid\\n        elif arr[mid] < target:\\n            left = mid + 1\\n        else:\\n            right = mid - 1\\n    return -1\",\n",
    "    \n",
    "    \"def fibonacci(n):\\n    if n <= 1:\\n        return n\\n    return fibonacci(n-1) + fibonacci(n-2)\",\n",
    "    \n",
    "    \"def is_prime(num):\\n    if num < 2:\\n        return False\\n    for i in range(2, int(num**0.5) + 1):\\n        if num % i == 0:\\n            return False\\n    return True\",\n",
    "    \n",
    "    \"def bubble_sort(arr):\\n    n = len(arr)\\n    for i in range(n):\\n        for j in range(0, n-i-1):\\n            if arr[j] > arr[j+1]:\\n                arr[j], arr[j+1] = arr[j+1], arr[j]\\n    return arr\",\n",
    "    \n",
    "    \"def quick_sort(arr):\\n    if len(arr) <= 1:\\n        return arr\\n    pivot = arr[len(arr) // 2]\\n    left = [x for x in arr if x < pivot]\\n    middle = [x for x in arr if x == pivot]\\n    right = [x for x in arr if x > pivot]\\n    return quick_sort(left) + middle + quick_sort(right)\"\n",
    "]\n",
    "\n",
    "sample_paths = [f\"sample_doc_{i+1}.py\" for i in range(len(sample_documents))]\n",
    "\n",
    "print(f\"📝 Created {len(sample_documents)} sample code documents\")\n",
    "print(\"📋 Sample documents:\")\n",
    "for i, doc in enumerate(sample_documents, 1):\n",
    "    print(f\"   {i}. {doc.split('(')[0].strip()}\")\n",
    "\n",
    "# Build search index with sample data\n",
    "print(f\"\\n🔨 Building search index with sample data...\")\n",
    "search_engine.build(sample_documents, sample_paths)\n",
    "\n",
    "# Get engine statistics\n",
    "stats = search_engine.get_stats()\n",
    "print(f\"📊 Engine stats: {stats}\")\n",
    "\n",
    "# Test search queries\n",
    "test_queries = [\n",
    "    \"binary search algorithm\",\n",
    "    \"fibonacci sequence calculation\", \n",
    "    \"prime number checker\",\n",
    "    \"sorting algorithms\",\n",
    "    \"recursive function\"\n",
    "]\n",
    "\n",
    "print(f\"\\n🔍 Testing search with {len(test_queries)} sample queries:\")\n",
    "print(\"-\" * 60)\n",
    "\n",
    "for i, query in enumerate(test_queries, 1):\n",
    "    print(f\"\\n{i}. Query: '{query}'\")\n",
    "    print(\"-\" * 40)\n",
    "    \n",
    "    # Search using the search engine\n",
    "    results = search_engine.search(query, k=3)\n",
    "    \n",
    "    if results:\n",
    "        print(f\"   Found {len(results)} results:\")\n",
    "        for j, result in enumerate(results, 1):\n",
    "            print(f\"   {j}. Score: {result.score:.4f}\")\n",
    "            print(f\"      Path: {result.path}\")\n",
    "            print(f\"      Code: {result.document[:100]}...\")\n",
    "            if len(result.document) > 100:\n",
    "                print(\"      ...\")\n",
    "    else:\n",
    "        print(\"   No results found\")\n",
    "\n",
    "print(f\"\\n✅ Sample data testing completed!\")\n",
    "print(f\"🎯 Qdrant search engine is working correctly with sample data!\")\n"
   ]
  },
  {
   "cell_type": "markdown",
   "id": "c2e33ad1",
   "metadata": {},
   "source": [
    "# PART 2: Evaluation\n",
    "\n",
    "Now, it's time to apply our search engine to the code search task and evaluate it on queries and function bodies from the CoSQA dataset. <br>\n",
    "\n",
    "Notes:<br>\n",
    "\n",
    "- Implement the following ranking metrics: Recall@10, MRR@10, and NCDG@10.<br>\n",
    "\n",
    "- Calculate these metrics for your implemented search engine.<br>"
   ]
  },
  {
   "cell_type": "code",
   "execution_count": 7,
   "id": "2f57d5a5",
   "metadata": {},
   "outputs": [],
   "source": [
    "from datasets import load_dataset, get_dataset_split_names\n",
    "\n",
    "DATASET = \"CoIR-Retrieval/cosqa\"\n",
    "\n",
    "def _only_split_name(dataset, config_name):\n",
    "    splits = get_dataset_split_names(dataset, config_name)\n",
    "    if len(splits) != 1:\n",
    "        raise RuntimeError(f\"Expected exactly 1 split for config '{config_name}', found {splits}\")\n",
    "    return splits[0]\n",
    "\n",
    "def _pick_qrels_split(dataset, preferred=\"test\"):\n",
    "    splits = get_dataset_split_names(dataset, \"default\")\n",
    "    if preferred in splits:\n",
    "        return preferred\n",
    "    for cand in [\"dev\",\"validation\",\"valid\",\"val\",\"test\",\"train\"]:\n",
    "        if cand in splits:\n",
    "            return cand\n",
    "    raise RuntimeError(f\"No suitable qrels split found. Available: {splits}\")\n",
    "\n",
    "def _pick_key(d, candidates):\n",
    "    for k in candidates:\n",
    "        if k in d:\n",
    "            return k\n",
    "    raise KeyError(f\"None of the keys {candidates} found. Available: {list(d.keys())[:10]} ...\")\n",
    "\n",
    "def _extract_text(rec):\n",
    "    # supports {\"title\":..., \"text\":...} or plain string fields\n",
    "    if \"text\" in rec and isinstance(rec[\"text\"], dict):\n",
    "        t = (rec[\"text\"].get(\"title\") or \"\").strip()\n",
    "        b = (rec[\"text\"].get(\"text\")  or \"\").strip()\n",
    "        return (t + \" \" + b).strip()\n",
    "    # try common text fields\n",
    "    for k in [\"text\",\"query\",\"question\",\"content\",\"body\",\"passage\",\"document\",\"doc\",\"sentence\"]:\n",
    "        if k in rec and isinstance(rec[k], str):\n",
    "            return rec[k]\n",
    "    # last resort: join all string fields\n",
    "    return \" \".join(str(v) for v in rec.values() if isinstance(v, str))\n",
    "\n",
    "def load_cosqa(dataset=DATASET, qrels_split=\"test\"):\n",
    "    # Load queries/corpus tables (each has a single split)\n",
    "    q_split = _only_split_name(dataset, \"queries\")\n",
    "    c_split = _only_split_name(dataset, \"corpus\")\n",
    "    q_ds = load_dataset(dataset, \"queries\", split=q_split)\n",
    "    c_ds = load_dataset(dataset, \"corpus\",  split=c_split)\n",
    "\n",
    "    # Detect id+text columns for queries\n",
    "    q_sample = q_ds[0]\n",
    "    q_id_key   = _pick_key(q_sample, [\"id\",\"query-id\",\"qid\",\"_id\"])\n",
    "    # text key will be auto-extracted via _extract_text\n",
    "    queries = {}\n",
    "    for r in q_ds:\n",
    "        queries[r[q_id_key]] = _extract_text(r)\n",
    "\n",
    "    # Detect id+text for corpus\n",
    "    c_sample = c_ds[0]\n",
    "    c_id_key = _pick_key(c_sample, [\"id\",\"corpus-id\",\"doc-id\",\"pid\",\"docid\",\"_id\"])\n",
    "    corpus = {}\n",
    "    for r in c_ds:\n",
    "        corpus[r[c_id_key]] = _extract_text(r)\n",
    "\n",
    "    # Load qrels from default config (has real splits)\n",
    "    rel_split = _pick_qrels_split(dataset, preferred=qrels_split)\n",
    "    rel_ds = load_dataset(dataset, \"default\", split=rel_split)\n",
    "\n",
    "    # Detect qrels column names\n",
    "    r0 = rel_ds[0]\n",
    "    qrels_qid = _pick_key(r0, [\"query-id\",\"qid\",\"query\",\"id_q\",\"q_id\"])\n",
    "    qrels_did = _pick_key(r0, [\"corpus-id\",\"doc-id\",\"pid\",\"docid\",\"d_id\"])\n",
    "    score_key = _pick_key(r0, [\"score\",\"label\",\"relevance\",\"rel\"])\n",
    "\n",
    "    qrels = {}\n",
    "    for r in rel_ds:\n",
    "        if int(r[score_key]) > 0:\n",
    "            qrels.setdefault(r[qrels_qid], set()).add(r[qrels_did])\n",
    "\n",
    "    return queries, corpus, qrels\n",
    "\n"
   ]
  },
  {
   "cell_type": "code",
   "execution_count": 8,
   "id": "2a5f44d6",
   "metadata": {},
   "outputs": [
    {
     "name": "stdout",
     "output_type": "stream",
     "text": [
      "Loaded: 20604 queries; 20604 docs; total relevant pairs: 500\n"
     ]
    }
   ],
   "source": [
    "queries, corpus, qrels = load_cosqa(DATASET, qrels_split=\"test\")\n",
    "print(\n",
    "    \"Loaded:\",\n",
    "    len(queries), \"queries;\",\n",
    "    len(corpus),  \"docs; total relevant pairs:\",\n",
    "    sum(len(v) for v in qrels.values())\n",
    ")\n"
   ]
  },
  {
   "cell_type": "markdown",
   "id": "6e8eff27",
   "metadata": {},
   "source": [
    "## Dataset Analysis and Visualization\n",
    "\n",
    "Let's analyze the CoSQA dataset to understand its characteristics and distribution.\n"
   ]
  },
  {
   "cell_type": "code",
   "execution_count": null,
   "id": "832a2ff9",
   "metadata": {},
   "outputs": [
    {
     "name": "stdout",
     "output_type": "stream",
     "text": [
      "📊 CoSQA Dataset Analysis\n",
      "==================================================\n",
      "📈 Dataset Statistics:\n",
      "   • Total Queries: 20,604\n",
      "   • Total Documents: 20,604\n",
      "   • Total Relevant Pairs: 500\n",
      "   • Average Relevant Docs per Query: 0.02\n",
      "\n",
      "📝 Query Analysis:\n",
      "   • Average Query Length: 6.6 words\n",
      "   • Min Query Length: 4 words\n",
      "   • Max Query Length: 21 words\n",
      "   • Median Query Length: 6.0 words\n",
      "\n",
      "📄 Document Analysis:\n",
      "   • Average Document Length: 30.7 words\n",
      "   • Min Document Length: 6 words\n",
      "   • Max Document Length: 670 words\n",
      "   • Median Document Length: 26.0 words\n",
      "\n",
      "🎯 Relevance Distribution:\n",
      "   • Queries with 1 relevant doc: 500\n",
      "   • Queries with 2 relevant docs: 0\n",
      "   • Queries with 3+ relevant docs: 0\n",
      "   • Average relevant docs per query: 1.00\n",
      "\n",
      "🔍 Sample Queries:\n",
      "   1. [q1] python code to write bool value 1\n",
      "   2. [q2] \"python how to manipulate clipboard\"\n",
      "   3. [q3] python colored output to html\n",
      "   4. [q4] python \"create directory\" using \"relative path\"\n",
      "   5. [q5] python column of an array\n",
      "\n",
      "📋 Sample Documents:\n",
      "   1. [d1] def writeBoolean(self, n):\n",
      "        \"\"\"\n",
      "        Writes a Boolean to the stream.\n",
      "        \"\"\"\n",
      "        t...\n",
      "   2. [d2] def paste(xsel=False):\n",
      "    \"\"\"Returns system clipboard contents.\"\"\"\n",
      "    selection = \"primary\" if xse...\n",
      "   3. [d3] def _format_json(data, theme):\n",
      "    \"\"\"Pretty print a dict as a JSON, with colors if pygments is pres...\n",
      "\n",
      "✅ Dataset analysis completed!\n"
     ]
    }
   ],
   "source": [
    "# Dataset Analysis and Visualization\n",
    "print(\"📊 CoSQA Dataset Analysis\")\n",
    "print(\"=\" * 50)\n",
    "\n",
    "# Basic statistics\n",
    "print(f\"📈 Dataset Statistics:\")\n",
    "print(f\"   • Total Queries: {len(queries):,}\")\n",
    "print(f\"   • Total Documents: {len(corpus):,}\")\n",
    "print(f\"   • Total Relevant Pairs: {sum(len(v) for v in qrels.values()):,}\")\n",
    "print(f\"   • Average Relevant Docs per Query: {sum(len(v) for v in qrels.values()) / len(queries):.2f}\")\n",
    "\n",
    "# Query length analysis\n",
    "query_lengths = [len(query.split()) for query in queries.values()]\n",
    "print(f\"\\n📝 Query Analysis:\")\n",
    "print(f\"   • Average Query Length: {np.mean(query_lengths):.1f} words\")\n",
    "print(f\"   • Min Query Length: {min(query_lengths)} words\")\n",
    "print(f\"   • Max Query Length: {max(query_lengths)} words\")\n",
    "print(f\"   • Median Query Length: {np.median(query_lengths):.1f} words\")\n",
    "\n",
    "# Document length analysis\n",
    "doc_lengths = [len(doc.split()) for doc in corpus.values()]\n",
    "print(f\"\\n📄 Document Analysis:\")\n",
    "print(f\"   • Average Document Length: {np.mean(doc_lengths):.1f} words\")\n",
    "print(f\"   • Min Document Length: {min(doc_lengths)} words\")\n",
    "print(f\"   • Max Document Length: {max(doc_lengths)} words\")\n",
    "print(f\"   • Median Document Length: {np.median(doc_lengths):.1f} words\")\n",
    "\n",
    "# Sample queries and documents\n",
    "print(f\"\\n🔍 Sample Queries:\")\n",
    "for i, (qid, query) in enumerate(list(queries.items())[:5], 1):\n",
    "    print(f\"   {i}. [{qid}] {query}\")\n",
    "\n",
    "print(f\"\\n📋 Sample Documents:\")\n",
    "for i, (did, doc) in enumerate(list(corpus.items())[:3], 1):\n",
    "    print(f\"   {i}. [{did}] {doc[:100]}...\")\n",
    "\n",
    "print(f\"\\n✅ Dataset analysis completed!\")\n"
   ]
  },
  {
   "cell_type": "code",
   "execution_count": 11,
   "id": "e84fa89e",
   "metadata": {},
   "outputs": [
    {
     "name": "stdout",
     "output_type": "stream",
     "text": [
      "📊 Creating Dataset Visualizations\n",
      "==================================================\n"
     ]
    },
    {
     "data": {
      "image/png": "[encoded data removed]",
      "text/plain": [
       "<Figure size 1800x1200 with 6 Axes>"
      ]
     },
     "metadata": {},
     "output_type": "display_data"
    },
    {
     "name": "stdout",
     "output_type": "stream",
     "text": [
      "✅ Visualizations created successfully!\n"
     ]
    }
   ],
   "source": [
    "# Dataset Visualizations\n",
    "print(\"📊 Creating Dataset Visualizations\")\n",
    "print(\"=\" * 50)\n",
    "\n",
    "# Set up the plotting style\n",
    "plt.style.use('default')\n",
    "fig, axes = plt.subplots(2, 3, figsize=(18, 12))\n",
    "fig.suptitle('CoSQA Dataset Analysis', fontsize=16, fontweight='bold')\n",
    "\n",
    "# 1. Query Length Distribution\n",
    "axes[0, 0].hist(query_lengths, bins=50, alpha=0.7, color='skyblue', edgecolor='black')\n",
    "axes[0, 0].axvline(np.mean(query_lengths), color='red', linestyle='--', linewidth=2, label=f'Mean: {np.mean(query_lengths):.1f}')\n",
    "axes[0, 0].axvline(np.median(query_lengths), color='orange', linestyle='--', linewidth=2, label=f'Median: {np.median(query_lengths):.1f}')\n",
    "axes[0, 0].set_title('Query Length Distribution')\n",
    "axes[0, 0].set_xlabel('Number of Words')\n",
    "axes[0, 0].set_ylabel('Frequency')\n",
    "axes[0, 0].legend()\n",
    "axes[0, 0].grid(True, alpha=0.3)\n",
    "\n",
    "# 2. Document Length Distribution\n",
    "axes[0, 1].hist(doc_lengths, bins=50, alpha=0.7, color='lightgreen', edgecolor='black')\n",
    "axes[0, 1].axvline(np.mean(doc_lengths), color='red', linestyle='--', linewidth=2, label=f'Mean: {np.mean(doc_lengths):.1f}')\n",
    "axes[0, 1].axvline(np.median(doc_lengths), color='orange', linestyle='--', linewidth=2, label=f'Median: {np.median(doc_lengths):.1f}')\n",
    "axes[0, 1].set_title('Document Length Distribution')\n",
    "axes[0, 1].set_xlabel('Number of Words')\n",
    "axes[0, 1].set_ylabel('Frequency')\n",
    "axes[0, 1].legend()\n",
    "axes[0, 1].grid(True, alpha=0.3)\n",
    "\n",
    "# 3. Query vs Document Length Scatter\n",
    "# Sample a subset for better visualization\n",
    "sample_size = min(1000, len(queries))\n",
    "sample_indices = np.random.choice(len(queries), sample_size, replace=False)\n",
    "sample_query_lengths = [query_lengths[i] for i in sample_indices]\n",
    "sample_doc_lengths = [doc_lengths[i] for i in sample_indices]\n",
    "\n",
    "axes[1, 0].scatter(sample_query_lengths, sample_doc_lengths, alpha=0.6, color='purple')\n",
    "axes[1, 0].set_title(f'Query vs Document Length (Sample of {sample_size})')\n",
    "axes[1, 0].set_xlabel('Query Length (words)')\n",
    "axes[1, 0].set_ylabel('Document Length (words)')\n",
    "axes[1, 0].grid(True, alpha=0.3)\n",
    "\n",
    "# 4. Dataset Size Comparison\n",
    "categories = ['Queries', 'Documents', 'Relevant Pairs']\n",
    "values = [len(queries), len(corpus), sum(len(v) for v in qrels.values())]\n",
    "colors = ['skyblue', 'lightgreen', 'lightcoral']\n",
    "\n",
    "bars = axes[1, 1].bar(categories, values, color=colors, edgecolor='black', alpha=0.7)\n",
    "axes[1, 1].set_title('Dataset Size Comparison')\n",
    "axes[1, 1].set_ylabel('Count')\n",
    "axes[1, 1].grid(True, alpha=0.3)\n",
    "\n",
    "# Add value labels on bars\n",
    "for bar, value in zip(bars, values):\n",
    "    height = bar.get_height()\n",
    "    axes[1, 1].text(bar.get_x() + bar.get_width()/2., height + height*0.01,\n",
    "                    f'{value:,}', ha='center', va='bottom', fontweight='bold')\n",
    "\n",
    "# 5. Query Length Percentiles\n",
    "percentiles = [10, 25, 50, 75, 90, 95, 99]\n",
    "query_percentiles = [np.percentile(query_lengths, p) for p in percentiles]\n",
    "\n",
    "axes[1, 2].plot(percentiles, query_percentiles, 'o-', color='darkblue', linewidth=2, markersize=6)\n",
    "axes[1, 2].set_title('Query Length Percentiles')\n",
    "axes[1, 2].set_xlabel('Percentile')\n",
    "axes[1, 2].set_ylabel('Query Length (words)')\n",
    "axes[1, 2].grid(True, alpha=0.3)\n",
    "axes[1, 2].set_xticks(percentiles)\n",
    "\n",
    "# Add value labels\n",
    "for p, val in zip(percentiles, query_percentiles):\n",
    "    axes[1, 2].text(p, val + 0.5, f'{val:.1f}', ha='center', va='bottom', fontsize=8)\n",
    "\n",
    "plt.tight_layout()\n",
    "plt.show()\n",
    "\n",
    "print(\"✅ Visualizations created successfully!\")\n"
   ]
  },
  {
   "cell_type": "code",
   "execution_count": 13,
   "id": "145c9596",
   "metadata": {},
   "outputs": [
    {
     "name": "stdout",
     "output_type": "stream",
     "text": [
      "🔍 Additional Dataset Analysis\n",
      "==================================================\n",
      "📝 Most Common Words in Queries:\n",
      "    1. 'python': 20,278 times\n",
      "    2. 'to': 7,091 times\n",
      "    3. 'in': 6,323 times\n",
      "    4. 'a': 4,727 times\n",
      "    5. 'how': 4,465 times\n",
      "    6. 'of': 2,863 times\n",
      "    7. 'list': 1,886 times\n",
      "    8. 'get': 1,855 times\n",
      "    9. 'string': 1,751 times\n",
      "   10. 'file': 1,493 times\n",
      "   11. 'the': 1,487 times\n",
      "   12. 'from': 1,435 times\n",
      "   13. 'check': 1,346 times\n",
      "   14. 'if': 1,247 times\n",
      "   15. 'is': 1,120 times\n",
      "   16. 'with': 903 times\n",
      "   17. 'array': 877 times\n",
      "   18. 'function': 827 times\n",
      "   19. 'for': 789 times\n",
      "   20. 'an': 742 times\n",
      "\n",
      "💻 Programming Keywords in Queries:\n",
      "   • 'python': 20,278 times\n",
      "   • 'list': 1,886 times\n",
      "   • 'string': 1,751 times\n",
      "   • 'from': 1,435 times\n",
      "   • 'if': 1,247 times\n",
      "   • 'array': 877 times\n",
      "   • 'function': 827 times\n",
      "   • 'for': 789 times\n",
      "   • 'dictionary': 523 times\n",
      "   • 'print': 353 times\n",
      "   • 'return': 313 times\n",
      "   • 'variable': 298 times\n",
      "   • 'int': 227 times\n",
      "   • 'float': 196 times\n",
      "   • 'method': 163 times\n",
      "\n",
      "📊 Query Complexity Analysis:\n",
      "   • Simple queries (≤5 words): 7,643 (37.1%)\n",
      "   • Complex queries (>10 words): 1,236 (6.0%)\n",
      "\n",
      "📄 Document Type Analysis:\n",
      "   • Function: 20,463 (99.3%)\n",
      "   • Class with Methods: 141 (0.7%)\n"
     ]
    }
   ],
   "source": [
    "# Additional Dataset Analysis\n",
    "print(\"🔍 Additional Dataset Analysis\")\n",
    "print(\"=\" * 50)\n",
    "\n",
    "# Word frequency analysis for queries\n",
    "from collections import Counter\n",
    "import re\n",
    "\n",
    "# Extract words from queries (simple tokenization)\n",
    "query_words = []\n",
    "for query in queries.values():\n",
    "    words = re.findall(r'\\b\\w+\\b', query.lower())\n",
    "    query_words.extend(words)\n",
    "\n",
    "# Get most common words\n",
    "word_freq = Counter(query_words)\n",
    "most_common_words = word_freq.most_common(20)\n",
    "\n",
    "print(\"📝 Most Common Words in Queries:\")\n",
    "for i, (word, count) in enumerate(most_common_words, 1):\n",
    "    print(f\"   {i:2d}. '{word}': {count:,} times\")\n",
    "\n",
    "# Programming language keywords analysis\n",
    "programming_keywords = [\n",
    "    'python', 'java', 'javascript', 'c++', 'c#', 'php', 'ruby', 'go', 'rust',\n",
    "    'function', 'class', 'method', 'variable', 'array', 'list', 'dictionary',\n",
    "    'loop', 'if', 'else', 'for', 'while', 'try', 'catch', 'exception',\n",
    "    'import', 'from', 'def', 'return', 'print', 'input', 'string', 'int',\n",
    "    'float', 'boolean', 'true', 'false', 'null', 'undefined'\n",
    "]\n",
    "\n",
    "keyword_counts = {kw: word_freq.get(kw, 0) for kw in programming_keywords}\n",
    "keyword_counts = {k: v for k, v in keyword_counts.items() if v > 0}\n",
    "keyword_counts = dict(sorted(keyword_counts.items(), key=lambda x: x[1], reverse=True))\n",
    "\n",
    "print(f\"\\n💻 Programming Keywords in Queries:\")\n",
    "for keyword, count in list(keyword_counts.items())[:15]:\n",
    "    print(f\"   • '{keyword}': {count:,} times\")\n",
    "\n",
    "# Query complexity analysis\n",
    "complex_queries = [q for q in queries.values() if len(q.split()) > 10]\n",
    "simple_queries = [q for q in queries.values() if len(q.split()) <= 5]\n",
    "\n",
    "print(f\"\\n📊 Query Complexity Analysis:\")\n",
    "print(f\"   • Simple queries (≤5 words): {len(simple_queries):,} ({len(simple_queries)/len(queries)*100:.1f}%)\")\n",
    "print(f\"   • Complex queries (>10 words): {len(complex_queries):,} ({len(complex_queries)/len(queries)*100:.1f}%)\")\n",
    "\n",
    "# Document type analysis (based on common patterns)\n",
    "def analyze_document_type(doc):\n",
    "    doc_lower = doc.lower()\n",
    "    if 'def ' in doc_lower and 'class ' in doc_lower:\n",
    "        return 'Class with Methods'\n",
    "    elif 'def ' in doc_lower:\n",
    "        return 'Function'\n",
    "    elif 'class ' in doc_lower:\n",
    "        return 'Class'\n",
    "    elif 'import ' in doc_lower or 'from ' in doc_lower:\n",
    "        return 'Import/Module'\n",
    "    elif 'if ' in doc_lower and 'else' in doc_lower:\n",
    "        return 'Conditional Logic'\n",
    "    elif 'for ' in doc_lower or 'while ' in doc_lower:\n",
    "        return 'Loop'\n",
    "    else:\n",
    "        return 'Other'\n",
    "\n",
    "doc_types = [analyze_document_type(doc) for doc in corpus.values()]\n",
    "type_counts = Counter(doc_types)\n",
    "\n",
    "print(f\"\\n📄 Document Type Analysis:\")\n",
    "for doc_type, count in type_counts.most_common():\n",
    "    print(f\"   • {doc_type}: {count:,} ({count/len(corpus)*100:.1f}%)\")\n"
   ]
  },
  {
   "cell_type": "code",
   "execution_count": 14,
   "id": "3fadb786",
   "metadata": {},
   "outputs": [
    {
     "name": "stdout",
     "output_type": "stream",
     "text": [
      "queries splits: ['queries']\n",
      "corpus  splits: ['corpus']\n",
      "default splits: ['train', 'test', 'valid']\n",
      "queries columns: ['_id', 'partition', 'text', 'title', 'language', 'meta_information'] sample: {'_id': 'q1', 'partition': 'train', 'text': 'python code to write bool value 1', 'title': '', 'language': '', 'meta_information': {'dummy_field': ''}}\n",
      "corpus  columns: ['_id', 'partition', 'text', 'title', 'language', 'meta_information'] sample: {'_id': 'd1', 'partition': 'train', 'text': 'def writeBoolean(self, n):\\n        \"\"\"\\n        Writes a Boolean to the stream.\\n        \"\"\"\\n        t = TYPE_BOOL_TRUE\\n\\n        if n is False:\\n            t = TYPE_BOOL_FALSE\\n\\n        self.stream.write(t)', 'title': '', 'language': 'PYTHON', 'meta_information': {'dummy_field': ''}}\n",
      "qrels   columns: ['query-id', 'corpus-id', 'score'] sample: {'query-id': 'q1', 'corpus-id': 'd1', 'score': 0}\n"
     ]
    }
   ],
   "source": [
    "from datasets import load_dataset, get_dataset_split_names\n",
    "\n",
    "print(\"queries splits:\", get_dataset_split_names(DATASET, \"queries\"))\n",
    "print(\"corpus  splits:\", get_dataset_split_names(DATASET, \"corpus\"))\n",
    "print(\"default splits:\", get_dataset_split_names(DATASET, \"default\"))\n",
    "\n",
    "q_split = get_dataset_split_names(DATASET, \"queries\")[0]\n",
    "c_split = get_dataset_split_names(DATASET, \"corpus\")[0]\n",
    "q_ds = load_dataset(DATASET, \"queries\", split=q_split)\n",
    "c_ds = load_dataset(DATASET, \"corpus\",  split=c_split)\n",
    "r_ds = load_dataset(DATASET, \"default\", split=get_dataset_split_names(DATASET, \"default\")[0])\n",
    "\n",
    "print(\"queries columns:\", q_ds.column_names, \"sample:\", q_ds[0])\n",
    "print(\"corpus  columns:\", c_ds.column_names, \"sample:\", c_ds[0])\n",
    "print(\"qrels   columns:\", r_ds.column_names, \"sample:\", r_ds[0])\n"
   ]
  },
  {
   "cell_type": "markdown",
   "id": "a4920881",
   "metadata": {},
   "source": [
    "## Qdrant Search Engine on our dataset\n"
   ]
  },
  {
   "cell_type": "code",
   "execution_count": 15,
   "id": "9489703e",
   "metadata": {},
   "outputs": [
    {
     "name": "stdout",
     "output_type": "stream",
     "text": [
      "📚 Building corpus index with Qdrant...\n",
      "Error clearing collection: Unexpected Response: 400 (Bad Request)\n",
      "Raw response content:\n",
      "b'{\"status\":{\"error\":\"Bad request: Index required but not found for \\\\\"exists\\\\\" of one of the following types: [bool]. Help: Create an index for this key or use a different filter.\"},\"time\":0.000019766}'\n",
      "Upserted 20604 vectors to collection 'cosqa_search_engine'\n",
      "✅ Indexed 20604 documents in Qdrant\n",
      "📊 Updated engine stats: {'documents_count': 20604, 'model_name': 'sentence-transformers/all-MiniLM-L6-v2', 'collection_stats': {'points_count': 84430, 'vector_size': 384, 'distance_metric': <Distance.COSINE: 'Cosine'>}}\n",
      "🔍 Qdrant-based search function ready!\n"
     ]
    }
   ],
   "source": [
    "# Build corpus index using Qdrant search engine\n",
    "print(\"📚 Building corpus index with Qdrant...\")\n",
    "# Prepare corpus data for indexing\n",
    "doc_ids = list(corpus.keys())\n",
    "doc_texts = [corpus[d] for d in doc_ids]\n",
    "doc_paths = [f\"doc_{i}.py\" for i in range(len(doc_texts))]\n",
    "# Build the search index using our Qdrant-based search engine\n",
    "search_engine.build(doc_texts, doc_paths)\n",
    "\n",
    "print(f\"✅ Indexed {len(doc_texts)} documents in Qdrant\")\n",
    "\n",
    "# Get updated statistics\n",
    "stats = search_engine.get_stats()\n",
    "print(f\"📊 Updated engine stats: {stats}\")\n",
    "\n",
    "def search_topk(q_texts, k=10):\n",
    "    \"\"\"\n",
    "    Search for top-k documents using Qdrant search engine.\n",
    "    \n",
    "    Args:\n",
    "        q_texts: List of query texts\n",
    "        k: Number of results to return per query\n",
    "        \n",
    "    Returns:\n",
    "        List of lists containing document IDs\n",
    "    \"\"\"\n",
    "    results = []\n",
    "    for query in q_texts:\n",
    "        # Search using our Qdrant-based search engine\n",
    "        search_results = search_engine.search(query, k=k)   \n",
    "        # Extract document IDs from search results\n",
    "        # Map back to original corpus IDs\n",
    "        query_doc_ids = []\n",
    "        for result in search_results:\n",
    "            # Extract index from path (e.g., \"doc_123.py\" -> 123)\n",
    "            try:\n",
    "                doc_index = int(result.path.split('_')[1].split('.')[0])\n",
    "                if doc_index < len(doc_ids):\n",
    "                    query_doc_ids.append(doc_ids[doc_index])\n",
    "            except (ValueError, IndexError):\n",
    "                continue\n",
    "        \n",
    "        results.append(query_doc_ids)\n",
    "    \n",
    "    return results\n",
    "\n",
    "print(\"🔍 Qdrant-based search function ready!\")\n"
   ]
  },
  {
   "cell_type": "code",
   "execution_count": 16,
   "id": "aef3d3c8",
   "metadata": {},
   "outputs": [
    {
     "name": "stdout",
     "output_type": "stream",
     "text": [
      "Baseline evaluation (no fine-tuning):\n",
      "Recall@10: 0.442\n",
      "MRR@10: 0.2657\n",
      "NDCG@10: 0.3098\n"
     ]
    }
   ],
   "source": [
    "def recall_at_k(preds, gold, k=10):\n",
    "    vals = []\n",
    "    for qid, cand in preds.items():\n",
    "        rel = gold.get(qid, set())\n",
    "        if not rel: \n",
    "            continue\n",
    "        hit = len(set(cand[:k]).intersection(rel))\n",
    "        vals.append(hit / len(rel))\n",
    "    return float(np.mean(vals)) if vals else 0.0\n",
    "\n",
    "def mrr_at_k(preds, gold, k=10):\n",
    "    vals = []\n",
    "    for qid, cand in preds.items():\n",
    "        rel = gold.get(qid, set())\n",
    "        if not rel:\n",
    "            continue\n",
    "        rr = 0.0\n",
    "        for rank, did in enumerate(cand[:k], start=1):\n",
    "            if did in rel:\n",
    "                rr = 1.0 / rank\n",
    "                break\n",
    "        vals.append(rr)\n",
    "    return float(np.mean(vals)) if vals else 0.0\n",
    "\n",
    "def ndcg_at_k(preds, gold, k=10):\n",
    "    def dcg(g):\n",
    "        return sum((1.0/np.log2(i+2)) for i,x in enumerate(g) if x)\n",
    "    vals=[]\n",
    "    for qid, cand in preds.items():\n",
    "        rel = gold.get(qid, set())\n",
    "        if not rel:\n",
    "            continue\n",
    "        gains = [1 if did in rel else 0 for did in cand[:k]]\n",
    "        ideal = sorted(gains, reverse=True)\n",
    "        idcg = dcg(ideal)\n",
    "        vals.append(0.0 if idcg==0 else dcg(gains)/idcg)\n",
    "    return float(np.mean(vals)) if vals else 0.0\n",
    "\n",
    "# Run evaluation on (a subset for speed by default)\n",
    "eval_qids = list(qrels.keys())\n",
    "eval_texts = [queries[q] for q in eval_qids]\n",
    "pred_lists = search_topk(eval_texts, k=10)\n",
    "preds = {qid: plist for qid, plist in zip(eval_qids, pred_lists)}\n",
    "\n",
    "print(\"Baseline evaluation (no fine-tuning):\")\n",
    "print(\"Recall@10:\", round(recall_at_k(preds, qrels, 10), 4))\n",
    "print(\"MRR@10:\",    round(mrr_at_k(preds, qrels, 10), 4))\n",
    "print(\"NDCG@10:\",   round(ndcg_at_k(preds, qrels, 10), 4))\n"
   ]
  },
  {
   "cell_type": "code",
   "execution_count": 17,
   "id": "dde4f71b",
   "metadata": {},
   "outputs": [
    {
     "data": {
      "text/plain": [
       "9020"
      ]
     },
     "execution_count": 17,
     "metadata": {},
     "output_type": "execute_result"
    }
   ],
   "source": [
    "# Build training pairs from TRAIN split\n",
    "train_queries, train_corpus, train_qrels = load_cosqa(DATASET, qrels_split=\"train\")\n",
    "\n",
    "train_pairs = []\n",
    "for qid, pos_docs in train_qrels.items():\n",
    "    q = train_queries.get(qid)\n",
    "    if not q:\n",
    "        continue\n",
    "    for did in pos_docs:\n",
    "        d = train_corpus.get(did)\n",
    "        if d:\n",
    "            train_pairs.append(InputExample(texts=[q, d], label=1.0))  # <- add label\n",
    "\n",
    "\n",
    "len(train_pairs)\n"
   ]
  },
  {
   "cell_type": "markdown",
   "id": "b8c21157",
   "metadata": {},
   "source": [
    "## PART 3 Fine-tuning all-MiniLM-L6-v2\n",
    "\n",
    "Let's make our model more suitable for the code search task. Fine-tune the model on the training set of the CoSQA dataset. Demonstrate that your search engine performs better on the CoSQA test set with this new model.<br>\n",
    "\n",
    "Notes:<br>\n",
    "\n",
    "- You don’t have to train your model to convergence, just show that metrics improve.\n",
    "\n",
    "- Which loss function have you selected for training and why?\n",
    "\n",
    "- Demonstrate a plot with the mean loss function value for intermediate training steps.\n"
   ]
  },
  {
   "cell_type": "code",
   "execution_count": 19,
   "id": "65d7d84c",
   "metadata": {},
   "outputs": [
    {
     "name": "stdout",
     "output_type": "stream",
     "text": [
      "\n",
      "🚀 Epoch 1/15\n"
     ]
    },
    {
     "name": "stderr",
     "output_type": "stream",
     "text": [
      "                                                                                               \r"
     ]
    },
    {
     "name": "stdout",
     "output_type": "stream",
     "text": [
      "✅ Epoch 1 avg loss: 0.2548\n",
      "\n",
      "🚀 Epoch 2/15\n"
     ]
    },
    {
     "name": "stderr",
     "output_type": "stream",
     "text": [
      "                                                                                               \r"
     ]
    },
    {
     "name": "stdout",
     "output_type": "stream",
     "text": [
      "✅ Epoch 2 avg loss: 0.1745\n",
      "\n",
      "🚀 Epoch 3/15\n"
     ]
    },
    {
     "name": "stderr",
     "output_type": "stream",
     "text": [
      "                                                                                               \r"
     ]
    },
    {
     "name": "stdout",
     "output_type": "stream",
     "text": [
      "✅ Epoch 3 avg loss: 0.1389\n",
      "\n",
      "🚀 Epoch 4/15\n"
     ]
    },
    {
     "name": "stderr",
     "output_type": "stream",
     "text": [
      "                                                                                               \r"
     ]
    },
    {
     "name": "stdout",
     "output_type": "stream",
     "text": [
      "✅ Epoch 4 avg loss: 0.1217\n",
      "\n",
      "🚀 Epoch 5/15\n"
     ]
    },
    {
     "name": "stderr",
     "output_type": "stream",
     "text": [
      "                                                                                               \r"
     ]
    },
    {
     "name": "stdout",
     "output_type": "stream",
     "text": [
      "✅ Epoch 5 avg loss: 0.1110\n",
      "\n",
      "🚀 Epoch 6/15\n"
     ]
    },
    {
     "name": "stderr",
     "output_type": "stream",
     "text": [
      "                                                                                               \r"
     ]
    },
    {
     "name": "stdout",
     "output_type": "stream",
     "text": [
      "✅ Epoch 6 avg loss: 0.1031\n",
      "\n",
      "🚀 Epoch 7/15\n"
     ]
    },
    {
     "name": "stderr",
     "output_type": "stream",
     "text": [
      "                                                                                               \r"
     ]
    },
    {
     "name": "stdout",
     "output_type": "stream",
     "text": [
      "✅ Epoch 7 avg loss: 0.0863\n",
      "\n",
      "🚀 Epoch 8/15\n"
     ]
    },
    {
     "name": "stderr",
     "output_type": "stream",
     "text": [
      "                                                                                               \r"
     ]
    },
    {
     "name": "stdout",
     "output_type": "stream",
     "text": [
      "✅ Epoch 8 avg loss: 0.0823\n",
      "\n",
      "🚀 Epoch 9/15\n"
     ]
    },
    {
     "name": "stderr",
     "output_type": "stream",
     "text": [
      "                                                                                               \r"
     ]
    },
    {
     "name": "stdout",
     "output_type": "stream",
     "text": [
      "✅ Epoch 9 avg loss: 0.0817\n",
      "\n",
      "🚀 Epoch 10/15\n"
     ]
    },
    {
     "name": "stderr",
     "output_type": "stream",
     "text": [
      "                                                                                               \r"
     ]
    },
    {
     "name": "stdout",
     "output_type": "stream",
     "text": [
      "✅ Epoch 10 avg loss: 0.0713\n",
      "\n",
      "🚀 Epoch 11/15\n"
     ]
    },
    {
     "name": "stderr",
     "output_type": "stream",
     "text": [
      "                                                                                               \r"
     ]
    },
    {
     "name": "stdout",
     "output_type": "stream",
     "text": [
      "✅ Epoch 11 avg loss: 0.0719\n",
      "\n",
      "🚀 Epoch 12/15\n"
     ]
    },
    {
     "name": "stderr",
     "output_type": "stream",
     "text": [
      "                                                                                               \r"
     ]
    },
    {
     "name": "stdout",
     "output_type": "stream",
     "text": [
      "✅ Epoch 12 avg loss: 0.0654\n",
      "\n",
      "🚀 Epoch 13/15\n"
     ]
    },
    {
     "name": "stderr",
     "output_type": "stream",
     "text": [
      "                                                                                               \r"
     ]
    },
    {
     "name": "stdout",
     "output_type": "stream",
     "text": [
      "✅ Epoch 13 avg loss: 0.0608\n",
      "\n",
      "🚀 Epoch 14/15\n"
     ]
    },
    {
     "name": "stderr",
     "output_type": "stream",
     "text": [
      "                                                                                               \r"
     ]
    },
    {
     "name": "stdout",
     "output_type": "stream",
     "text": [
      "✅ Epoch 14 avg loss: 0.0633\n",
      "\n",
      "🚀 Epoch 15/15\n"
     ]
    },
    {
     "name": "stderr",
     "output_type": "stream",
     "text": [
      "                                                                                               "
     ]
    },
    {
     "name": "stdout",
     "output_type": "stream",
     "text": [
      "✅ Epoch 15 avg loss: 0.0612\n",
      "💾 Saved fine-tuned model to: cosqa-ft-all-MiniLM-L6-v2-20251015-175356\n"
     ]
    },
    {
     "name": "stderr",
     "output_type": "stream",
     "text": [
      "\r"
     ]
    }
   ],
   "source": [
    "from torch.utils.data import DataLoader\n",
    "from torch.optim import AdamW\n",
    "from sentence_transformers import SentenceTransformer, losses\n",
    "from tqdm import tqdm\n",
    "import torch\n",
    "import numpy as np\n",
    "import matplotlib.pyplot as plt\n",
    "from datetime import datetime\n",
    "\n",
    "device = \"cuda\" if torch.cuda.is_available() else \"cpu\"\n",
    "ft_model = SentenceTransformer(MODEL_NAME, device=device)\n",
    "\n",
    "train_loader = DataLoader(\n",
    "    train_pairs,                     # InputExample(texts=[q,d], label=1.0)\n",
    "    shuffle=True,\n",
    "    batch_size=64,\n",
    "    drop_last=True,\n",
    "    collate_fn=ft_model.smart_batching_collate,\n",
    ")\n",
    "\n",
    "criterion = losses.MultipleNegativesRankingLoss(ft_model)\n",
    "optimizer = AdamW(ft_model.parameters(), lr=2e-5)\n",
    "\n",
    "ft_model.train()\n",
    "loss_history = []\n",
    "EPOCHS = 15\n",
    "for epoch in range(EPOCHS):\n",
    "    print(f\"\\n🚀 Epoch {epoch + 1}/{EPOCHS}\")\n",
    "    running = 0.0\n",
    "    pbar = tqdm(train_loader, desc=\"Training\", leave=False)\n",
    "    for step, (features, labels) in enumerate(pbar):\n",
    "        # move batch to device\n",
    "        features = [{k: v.to(device) for k, v in f.items()} for f in features]\n",
    "        labels   = labels.to(device)\n",
    "\n",
    "        optimizer.zero_grad()\n",
    "        loss = criterion(features, labels)\n",
    "        loss.backward()\n",
    "        optimizer.step()\n",
    "\n",
    "        val = float(loss.item())\n",
    "        loss_history.append(val)\n",
    "        running += val\n",
    "        pbar.set_postfix({\"batch_loss\": f\"{val:.4f}\", \"avg_loss\": f\"{running/(step+1):.4f}\"})\n",
    "    print(f\"✅ Epoch {epoch + 1} avg loss: {running/(step+1):.4f}\")\n",
    "\n",
    "# Save to a timestamped directory\n",
    "stamp = datetime.now().strftime(\"%Y%m%d-%H%M%S\")\n",
    "save_dir = f\"cosqa-ft-{os.path.basename(MODEL_NAME)}-{stamp}\"\n",
    "ft_model.save(save_dir)\n",
    "print(f\"💾 Saved fine-tuned model to: {save_dir}\")\n",
    "\n",
    "# Keep the save path around for the next cell\n",
    "FINE_TUNED_PATH = save_dir\n"
   ]
  },
  {
   "cell_type": "code",
   "execution_count": 20,
   "id": "bd7b04a7",
   "metadata": {},
   "outputs": [
    {
     "name": "stdout",
     "output_type": "stream",
     "text": [
      "🔎 Evaluating baseline model...\n"
     ]
    },
    {
     "name": "stderr",
     "output_type": "stream",
     "text": [
      "Batches: 100%|██████████| 81/81 [00:15<00:00,  5.13it/s]\n",
      "Batches: 100%|██████████| 2/2 [00:00<00:00, 64.00it/s]\n"
     ]
    },
    {
     "name": "stdout",
     "output_type": "stream",
     "text": [
      "🔎 Evaluating fine-tuned model...\n"
     ]
    },
    {
     "name": "stderr",
     "output_type": "stream",
     "text": [
      "Batches: 100%|██████████| 81/81 [00:07<00:00, 11.34it/s]\n",
      "Batches: 100%|██████████| 2/2 [00:00<00:00, 65.83it/s]\n"
     ]
    },
    {
     "name": "stdout",
     "output_type": "stream",
     "text": [
      "\n",
      "=== Results (k=10) ===\n",
      "Baseline [sentence-transformers/all-MiniLM-L6-v2]: Recall@10: 0.4700 | MRR@10: 0.3686 | NDCG@10: 0.3933\n",
      "Fine-tuned [cosqa-ft-all-MiniLM-L6-v2-20251015-175356]: Recall@10: 0.6020 | MRR@10: 0.4676 | NDCG@10: 0.5004\n"
     ]
    }
   ],
   "source": [
    "# === Baseline vs Fine-tuned comparison ===\n",
    "import numpy as np, faiss\n",
    "from sentence_transformers import SentenceTransformer\n",
    "import torch\n",
    "\n",
    "# Expect these from earlier cells:\n",
    "# - queries: dict[qid] -> str\n",
    "# - corpus:  dict[did] -> str\n",
    "# - qrels:   dict[qid] -> set(did)\n",
    "# - recall_at_k, mrr_at_k, ndcg_at_k functions\n",
    "\n",
    "recall_at_k\n",
    "mrr_at_k\n",
    "ndcg_at_k\n",
    "\n",
    "\n",
    "# Prepare eval queries\n",
    "eval_qids  = list(qrels.keys())\n",
    "eval_texts = [queries[q] for q in eval_qids]\n",
    "\n",
    "doc_ids   = list(corpus.keys())\n",
    "doc_texts = [corpus[d] for d in doc_ids]\n",
    "\n",
    "def build_index_and_search(model, k=10, batch_size=256):\n",
    "    # Embed corpus\n",
    "    doc_emb = model.encode(\n",
    "        doc_texts, convert_to_numpy=True, normalize_embeddings=True,\n",
    "        batch_size=batch_size, show_progress_bar=True\n",
    "    )\n",
    "    index = faiss.IndexFlatIP(doc_emb.shape[1])\n",
    "    index.add(doc_emb)\n",
    "\n",
    "    # Embed queries\n",
    "    q_emb = model.encode(\n",
    "        eval_texts, convert_to_numpy=True, normalize_embeddings=True,\n",
    "        batch_size=batch_size, show_progress_bar=True\n",
    "    )\n",
    "    D, I = index.search(q_emb, k)\n",
    "    preds = {qid: [doc_ids[j] for j in row] for qid, row in zip(eval_qids, I)}\n",
    "    return preds\n",
    "\n",
    "def eval_model(model):\n",
    "    preds = build_index_and_search(model, k=10)\n",
    "    return {\n",
    "        \"Recall@10\": round(recall_at_k(preds, qrels, 10), 4),\n",
    "        \"MRR@10\":    round(mrr_at_k(preds, qrels, 10), 4),\n",
    "        \"NDCG@10\":   round(ndcg_at_k(preds, qrels, 10), 4),\n",
    "    }\n",
    "\n",
    "# 1) Baseline (fresh, not fine-tuned)\n",
    "BASE_MODEL_NAME = MODEL_NAME  # same base as training\n",
    "baseline_model = SentenceTransformer(BASE_MODEL_NAME, device=\"cuda\" if torch.cuda.is_available() else \"cpu\")\n",
    "print(\"🔎 Evaluating baseline model...\")\n",
    "baseline_scores = eval_model(baseline_model)\n",
    "\n",
    "# 2) Fine-tuned (load from the path saved in Cell A)\n",
    "assert \"FINE_TUNED_PATH\" in globals(), \"FINE_TUNED_PATH not found — run the training cell first.\"\n",
    "ft_model = SentenceTransformer(FINE_TUNED_PATH, device=\"cuda\" if torch.cuda.is_available() else \"cpu\")\n",
    "print(\"🔎 Evaluating fine-tuned model...\")\n",
    "ft_scores = eval_model(ft_model)\n",
    "\n",
    "# 3) Pretty print\n",
    "def fmt(d): return \" | \".join(f\"{k}: {v:.4f}\" for k,v in d.items())\n",
    "print(\"\\n=== Results (k=10) ===\")\n",
    "print(f\"Baseline [{BASE_MODEL_NAME}]: {fmt(baseline_scores)}\")\n",
    "print(f\"Fine-tuned [{FINE_TUNED_PATH}]: {fmt(ft_scores)}\")\n"
   ]
  },
  {
   "cell_type": "markdown",
   "id": "a3587737",
   "metadata": {},
   "source": [
    "# Comparison of the models\n",
    "### We can clearly see a difference in performance in comparing the results of the baseline model vs the fine tuned model <br>\n",
    "Baseline : Recall@10: 0.4700 | MRR@10: 0.3686 | NDCG@10: 0.3933<br>\n",
    "Fine-tuned : Recall@10: 0.6020 | MRR@10: 0.4676 | NDCG@10: 0.5004"
   ]
  },
  {
   "cell_type": "markdown",
   "id": "7bdec4e4",
   "metadata": {},
   "source": [
    "## Fine-tuned Model with Qdrant\n"
   ]
  },
  {
   "cell_type": "code",
   "execution_count": 22,
   "id": "65eb30ad",
   "metadata": {},
   "outputs": [
    {
     "name": "stdout",
     "output_type": "stream",
     "text": [
      "Using fine-tuned collection: cosqa_search_engine_ft\n",
      "✅ Connected to Qdrant (cloud) at https://ef831e2f-378b-4433-8b16-199dadd9e843.eu-west-2-0.aws.cloud.qdrant.io:6333\n",
      "⚙️ Indexing 20604 test docs into Qdrant (fine-tuned)…\n",
      "Error clearing collection: Unexpected Response: 400 (Bad Request)\n",
      "Raw response content:\n",
      "b'{\"status\":{\"error\":\"Bad request: Index required but not found for \\\\\"exists\\\\\" of one of the following types: [bool]. Help: Create an index for this key or use a different filter.\"},\"time\":0.000019405}'\n",
      "Upserted 20604 vectors to collection 'cosqa_search_engine_ft'\n",
      "✅ Index built.\n",
      "\n",
      "📊 Qdrant (fine-tuned) — test split @10\n",
      "Recall@10: 0.352\n",
      "MRR@10:    0.204\n",
      "NDCG@10:   0.2358\n"
     ]
    }
   ],
   "source": [
    "# === Qdrant + Fine-tuned model: index test corpus & evaluate ===\n",
    "import random\n",
    "from tqdm import tqdm\n",
    "\n",
    "# sanity checks\n",
    "assert \"FINE_TUNED_PATH\" in globals(), \"Run the training cell first to set FINE_TUNED_PATH.\"\n",
    "assert \"queries\" in globals() and \"corpus\" in globals() and \"qrels\" in globals(), \"Load the test split first.\"\n",
    "\n",
    "# 1) Use a separate collection for the fine-tuned model\n",
    "FT_COLLECTION_NAME = f\"{COLLECTION_NAME}_ft\"\n",
    "\n",
    "print(\"Using fine-tuned collection:\", FT_COLLECTION_NAME)\n",
    "vector_db_ft = VectorDatabase(\n",
    "    collection_name=FT_COLLECTION_NAME,\n",
    "    use_local=False\n",
    ")\n",
    "\n",
    "# 2) Initialize a new search engine that points to the fine-tuned checkpoint\n",
    "MODEL_NAME_FT = FINE_TUNED_PATH  # EmbeddingSearchEngine accepts model name OR local path\n",
    "search_engine_ft = EmbeddingSearchEngine(\n",
    "    model_name=MODEL_NAME_FT,\n",
    "    vector_db=vector_db_ft\n",
    ")\n",
    "\n",
    "# 3) Build the FT index from the test corpus\n",
    "doc_ids   = list(corpus.keys())\n",
    "doc_texts = [corpus[d] for d in doc_ids]\n",
    "doc_paths = [f\"doc_{i}.py\" for i in range(len(doc_texts))]   # keep same path scheme you used before\n",
    "\n",
    "print(f\"⚙️ Indexing {len(doc_texts)} test docs into Qdrant (fine-tuned)…\")\n",
    "search_engine_ft.build(doc_texts, doc_paths)\n",
    "print(\"✅ Index built.\")\n",
    "\n",
    "# 4) Helper to search with the FT engine, mapping hits back to original corpus IDs\n",
    "def search_topk_ft(q_texts, k=10):\n",
    "    results = []\n",
    "    for query in q_texts:\n",
    "        hits = search_engine_ft.search(query, k=k)\n",
    "        query_doc_ids = []\n",
    "        for h in hits:\n",
    "            # your earlier scheme: extract integer index from \"doc_{i}.py\"\n",
    "            try:\n",
    "                idx = int(h.path.split('_')[1].split('.')[0])\n",
    "                if 0 <= idx < len(doc_ids):\n",
    "                    query_doc_ids.append(doc_ids[idx])\n",
    "            except Exception:\n",
    "                continue\n",
    "        results.append(query_doc_ids)\n",
    "    return results\n",
    "\n",
    "# 5) Evaluate on the TEST queries\n",
    "eval_qids  = list(qrels.keys())\n",
    "eval_texts = [queries[q] for q in eval_qids]\n",
    "\n",
    "pred_lists_ft = search_topk_ft(eval_texts, k=10)\n",
    "ft_preds = {qid: plist for qid, plist in zip(eval_qids, pred_lists_ft)}\n",
    "\n",
    "# 6) Print metrics\n",
    "print(\"\\n📊 Qdrant (fine-tuned) — test split @10\")\n",
    "print(\"Recall@10:\", round(recall_at_k(ft_preds, qrels, 10), 4))\n",
    "print(\"MRR@10:   \", round(mrr_at_k(ft_preds, qrels, 10), 4))\n",
    "print(\"NDCG@10:  \", round(ndcg_at_k(ft_preds, qrels, 10), 4))\n"
   ]
  }
 ],
 "metadata": {
  "kernelspec": {
   "display_name": "venv",
   "language": "python",
   "name": "python3"
  },
  "language_info": {
   "codemirror_mode": {
    "name": "ipython",
    "version": 3
   },
   "file_extension": ".py",
   "mimetype": "text/x-python",
   "name": "python",
   "nbconvert_exporter": "python",
   "pygments_lexer": "ipython3",
   "version": "3.11.9"
  }
 },
 "nbformat": 4,
 "nbformat_minor": 5
}
